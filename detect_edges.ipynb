{
 "cells": [
  {
   "cell_type": "code",
   "execution_count": 2,
   "metadata": {},
   "outputs": [
    {
     "data": {
      "text/plain": [
       "array([[0.16319628, 0.16319628, 0.22232432, ..., 0.18417287, 0.18417287,\n",
       "        0.18417287],\n",
       "       [0.16319628, 0.09996635, 0.13821791, ..., 0.16507021, 0.18417287,\n",
       "        0.13951225],\n",
       "       [0.09996635, 0.13821791, 0.13821791, ..., 0.22798492, 0.26064606,\n",
       "        0.30354182],\n",
       "       ...,\n",
       "       [0.29338471, 0.28998734, 0.23737033, ..., 0.23080064, 0.27224909,\n",
       "        0.27224909],\n",
       "       [0.39102779, 0.31256064, 0.28998734, ..., 0.22880345, 0.21742835,\n",
       "        0.27224909],\n",
       "       [0.39102779, 0.39102779, 0.31256064, ..., 0.20193461, 0.21742835,\n",
       "        0.18738575]])"
      ]
     },
     "execution_count": 2,
     "metadata": {},
     "output_type": "execute_result"
    }
   ],
   "source": [
    "import numpy as np\n",
    "from skimage import io, filters, morphology, measure\n",
    "\n",
    "# Load the SEM image\n",
    "image = io.imread('/groups/aprintz/github/segmenteverygrain/perovskite_sems/MAPbI3_Cycle_SEM_Grains/Pristine 25KX/231203_AAS_MAPbI3_Ctrl_5cyc_q018.tif', as_gray=True)\n",
    "\n",
    "# Apply edge detection\n",
    "edges = filters.sobel(image)\n",
    "\n",
    "# Perform morphological operations to enhance edges\n",
    "edges = morphology.dilation(edges, morphology.disk(1))\n",
    "\n",
    "edges"
   ]
  }
 ],
 "metadata": {
  "kernelspec": {
   "display_name": "Python 3 (ipykernel)",
   "language": "python",
   "name": "python3"
  },
  "language_info": {
   "codemirror_mode": {
    "name": "ipython",
    "version": 3
   },
   "file_extension": ".py",
   "mimetype": "text/x-python",
   "name": "python",
   "nbconvert_exporter": "python",
   "pygments_lexer": "ipython3",
   "version": "3.8.19"
  }
 },
 "nbformat": 4,
 "nbformat_minor": 2
}
